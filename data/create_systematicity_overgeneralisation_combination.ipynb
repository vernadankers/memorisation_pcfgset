{
 "cells": [
  {
   "cell_type": "code",
   "execution_count": 2,
   "id": "ae448bdf",
   "metadata": {},
   "outputs": [],
   "source": [
    "import random\n",
    "import numpy as np\n",
    "\n",
    "\n",
    "def short(line):\n",
    "    source = line.split(\"\\t\")[0].replace(\"(\", \" \").replace(\")\", \" \").replace(\",\", \"\").split()\n",
    "    return len([w for w in source if w.lower() == w]) == 2\n",
    "\n",
    "\n",
    "random.seed(1)\n",
    "np.random.seed(1)\n",
    "\n",
    "train = list(zip([l.strip() for l in open(\"systematicity/train.src\").readlines()],\n",
    "            [l.strip() for l in open(\"systematicity/train.tgt\").readlines()]))\n",
    "train = [p for p in train if \"reverse echo\" not in p[0] and \\\n",
    "         \"prepend remove_first\" not in p[0] and \"echo remove_first\" not in p[0] and \\\n",
    "         \"prepend reverse\" not in p[0]]\n",
    "n = int(len(train) * 0.9)\n",
    "test = train[n:]\n",
    "train = train[:n]\n",
    "\n",
    "sys_overgen = open(\"regenerate/sys_overgen.txt.txt\").readlines()\n",
    "\n",
    "sys_overgen_short = [l for l in sys_overgen if short(l)]\n",
    "sys_overgen_long = [l for l in sys_overgen if not short(l)]\n",
    "\n",
    "random.shuffle(sys_overgen_short)\n",
    "random.shuffle(sys_overgen_long)\n",
    "\n",
    "mini = int(len(train) * 0.0025)\n",
    "tiny = int(len(train) * 0.005)\n",
    "small = int(len(train) * 0.01)\n",
    "medium = int(len(train) * 0.02)\n",
    "regular = int(len(train) * 0.04)\n",
    "regular2 = int(len(train) * 0.08)"
   ]
  },
  {
   "cell_type": "code",
   "execution_count": 3,
   "id": "bf1dc6e1",
   "metadata": {},
   "outputs": [],
   "source": [
    "len(sys_overgen_short)\n",
    "\n",
    "base_examples = random.sample(sys_overgen_short, int(mini/2)) + \\\n",
    "    random.sample(sys_overgen_long, int(mini/2))\n",
    "with open(\"systematicity_overgeneralisation/test_overgeneralisation.src\", 'w') as f_src, \\\n",
    "    open(\"systematicity_overgeneralisation/test_overgeneralisation.original.tgt\", 'w') as f_tgt_org, \\\n",
    "    open(\"systematicity_overgeneralisation/test_overgeneralisation.exception.tgt\", 'w') as f_tgt_exc:\n",
    "    for l in base_examples:\n",
    "        source, tgt_org, tgt_exc = l.split(\"\\t\")\n",
    "        f_src.write(source.replace(\" (\", \"\").replace(\" )\", \"\") + '\\n')\n",
    "        f_tgt_org.write(tgt_org + '\\n')\n",
    "        f_tgt_exc.write(tgt_exc.strip() + '\\n')"
   ]
  },
  {
   "cell_type": "code",
   "execution_count": 4,
   "id": "c85caf4b",
   "metadata": {},
   "outputs": [],
   "source": [
    "import random\n",
    "import numpy as np\n",
    "\n",
    "for seed in range(11, 21):\n",
    "    random.seed(seed)\n",
    "    np.random.seed(seed)\n",
    "    for size, name in [(mini, 0.0025), (0, 0), (tiny, 0.005), (small, 0.01), (medium, 0.02), (regular, 0.04),\\\n",
    "                       (regular2, 0.08)]:\n",
    "        if name == 0:\n",
    "            overgen_samples = []\n",
    "        elif name == 0.0025:\n",
    "            overgen_samples = base_examples\n",
    "        else:\n",
    "            overgen_samples = \\\n",
    "                base_examples + \\\n",
    "                random.sample([s for s in sys_overgen_short if s not in base_examples], int(size/2)) + \\\n",
    "                random.sample([s for s in sys_overgen_long if s not in base_examples], int(size/2))\n",
    "        overgen_samples = [\n",
    "            (l.split(\"\\t\")[0].replace(\" (\", \"\").replace(\" )\", \"\"), l.split(\"\\t\")[2].strip())\n",
    "            for l in overgen_samples]\n",
    "\n",
    "        dataset = train + overgen_samples\n",
    "        random.shuffle(dataset)\n",
    "\n",
    "        with open(f\"systematicity_overgeneralisation/train_{name}_{seed}.src\", 'w') as f_src, \\\n",
    "             open(f\"systematicity_overgeneralisation/train_{name}_{seed}.tgt\", 'w') as f_tgt:\n",
    "            for src, tgt in dataset:\n",
    "                f_src.write(src.strip() + '\\n')\n",
    "                f_tgt.write(tgt.strip() + '\\n')"
   ]
  },
  {
   "cell_type": "code",
   "execution_count": 4,
   "id": "d4b8c5c5",
   "metadata": {},
   "outputs": [],
   "source": [
    "with open(f\"systematicity_overgeneralisation/test_iid.src\", 'w') as f_src, \\\n",
    "    open(f\"systematicity_overgeneralisation/test_iid.tgt\", 'w') as f_tgt:\n",
    "    for src, tgt in test:\n",
    "        f_src.write(src.strip() + '\\n')\n",
    "        f_tgt.write(tgt.strip() + '\\n')"
   ]
  },
  {
   "cell_type": "code",
   "execution_count": null,
   "id": "e83ad22f",
   "metadata": {},
   "outputs": [],
   "source": []
  }
 ],
 "metadata": {
  "kernelspec": {
   "display_name": "Python 3 (ipykernel)",
   "language": "python",
   "name": "python3"
  },
  "language_info": {
   "codemirror_mode": {
    "name": "ipython",
    "version": 3
   },
   "file_extension": ".py",
   "mimetype": "text/x-python",
   "name": "python",
   "nbconvert_exporter": "python",
   "pygments_lexer": "ipython3",
   "version": "3.9.12"
  }
 },
 "nbformat": 4,
 "nbformat_minor": 5
}
